{
 "cells": [
  {
   "cell_type": "markdown",
   "id": "dbff99b2",
   "metadata": {},
   "source": [
    "## Table of Contents"
   ]
  },
  {
   "cell_type": "markdown",
   "id": "979f0edc",
   "metadata": {},
   "source": [
    "#### 01. Importing Libraries\n",
    "#### 02. Profiling Based on Age\n",
    "#### 03. Profiling Based on Income\n",
    "#### 04. Profiling Based on \"Produce\"\n",
    "#### 05. Profiling Based on Number of Dependents\n",
    "#### 06. Aggregating\n",
    "#### 07. Export "
   ]
  },
  {
   "cell_type": "markdown",
   "id": "04c2df3c",
   "metadata": {},
   "source": [
    "## 01. Importing Libraries"
   ]
  },
  {
   "cell_type": "code",
   "execution_count": 1,
   "id": "4df192c9",
   "metadata": {},
   "outputs": [],
   "source": [
    "# Importing libraries\n",
    "import pandas as pd\n",
    "import numpy as np\n",
    "import os"
   ]
  },
  {
   "cell_type": "code",
   "execution_count": 2,
   "id": "1f23bf89",
   "metadata": {},
   "outputs": [],
   "source": [
    "# Defining path\n",
    "path = r'/Users/kurtson/Desktop/Instacart Basket Analysis'"
   ]
  },
  {
   "cell_type": "code",
   "execution_count": 3,
   "id": "96302af8",
   "metadata": {},
   "outputs": [],
   "source": [
    "# Import data\n",
    "df = pd.read_pickle(os.path.join(path, '02 Data', 'Prepared Data','df_regions.pkl'))"
   ]
  },
  {
   "cell_type": "markdown",
   "id": "d8e599bd",
   "metadata": {},
   "source": [
    "## 02. Profiling Based on Age"
   ]
  },
  {
   "cell_type": "code",
   "execution_count": 4,
   "id": "d8404ee5",
   "metadata": {},
   "outputs": [],
   "source": [
    "#create age group flags\n",
    "df.loc[df['age']<35,'age_group']='Young Age'"
   ]
  },
  {
   "cell_type": "code",
   "execution_count": 5,
   "id": "b814e061",
   "metadata": {},
   "outputs": [],
   "source": [
    "df.loc[(df['age']>=35) & (df['age']<55),'age_group']='Middle Age'"
   ]
  },
  {
   "cell_type": "code",
   "execution_count": 6,
   "id": "b64178b2",
   "metadata": {},
   "outputs": [],
   "source": [
    "df.loc[df['age']>=55,'age_group']='Old Age'"
   ]
  },
  {
   "cell_type": "code",
   "execution_count": 7,
   "id": "3fedd055",
   "metadata": {},
   "outputs": [
    {
     "data": {
      "text/plain": [
       "age_group\n",
       "Old Age       13604145\n",
       "Middle Age    10173928\n",
       "Young Age      8627968\n",
       "Name: count, dtype: int64"
      ]
     },
     "execution_count": 7,
     "metadata": {},
     "output_type": "execute_result"
    }
   ],
   "source": [
    "#check frequency\n",
    "df['age_group'].value_counts(dropna=False)"
   ]
  },
  {
   "cell_type": "code",
   "execution_count": 8,
   "id": "15746d88",
   "metadata": {},
   "outputs": [],
   "source": [
    "#create day of week flags\n",
    "df.loc[df['order_dow'] == 0, 'order_dow'] = 'Saturday'"
   ]
  },
  {
   "cell_type": "code",
   "execution_count": 9,
   "id": "8873115a",
   "metadata": {},
   "outputs": [],
   "source": [
    "df.loc[df['order_dow'] == 1, 'order_dow'] = 'Sunday'"
   ]
  },
  {
   "cell_type": "code",
   "execution_count": 10,
   "id": "c20e096e",
   "metadata": {},
   "outputs": [],
   "source": [
    "df.loc[df['order_dow'] == 2, 'order_dow'] = 'Monday'"
   ]
  },
  {
   "cell_type": "code",
   "execution_count": 11,
   "id": "3d84f02e",
   "metadata": {},
   "outputs": [],
   "source": [
    "df.loc[df['order_dow'] == 3, 'order_dow'] = 'Tuesday'"
   ]
  },
  {
   "cell_type": "code",
   "execution_count": 12,
   "id": "74ddd489",
   "metadata": {},
   "outputs": [],
   "source": [
    "df.loc[df['order_dow'] == 4, 'order_dow'] = 'Wednesday'"
   ]
  },
  {
   "cell_type": "code",
   "execution_count": 13,
   "id": "ee36cef7",
   "metadata": {},
   "outputs": [],
   "source": [
    "df.loc[df['order_dow'] == 5, 'order_dow'] = 'Thursday'"
   ]
  },
  {
   "cell_type": "code",
   "execution_count": 14,
   "id": "59e13ff3",
   "metadata": {},
   "outputs": [],
   "source": [
    "df.loc[df['order_dow'] == 6, 'order_dow'] = 'Friday'"
   ]
  },
  {
   "cell_type": "markdown",
   "id": "d9981969",
   "metadata": {},
   "source": [
    "## 03. Profiling Based on Income"
   ]
  },
  {
   "cell_type": "code",
   "execution_count": 15,
   "id": "25b7ef35",
   "metadata": {},
   "outputs": [],
   "source": [
    "#create flag for income groups\n",
    "df.loc[df['income']<75000,'Income_Groups']= 'lower class'"
   ]
  },
  {
   "cell_type": "code",
   "execution_count": 16,
   "id": "6d6ab1ec",
   "metadata": {},
   "outputs": [],
   "source": [
    "df.loc[(df['income']>=75000)&(df['income']<150000),'Income_Groups']= 'middle class'"
   ]
  },
  {
   "cell_type": "code",
   "execution_count": 17,
   "id": "389a5cd4",
   "metadata": {},
   "outputs": [],
   "source": [
    "df.loc[(df['income']>=150000),'Income_Groups']= 'upper class'"
   ]
  },
  {
   "cell_type": "code",
   "execution_count": 18,
   "id": "1dbf34d1",
   "metadata": {},
   "outputs": [
    {
     "data": {
      "text/plain": [
       "Income_Groups\n",
       "middle class    17911161\n",
       "lower class     10443165\n",
       "upper class      4051715\n",
       "Name: count, dtype: int64"
      ]
     },
     "execution_count": 18,
     "metadata": {},
     "output_type": "execute_result"
    }
   ],
   "source": [
    "df['Income_Groups'].value_counts(dropna=False)"
   ]
  },
  {
   "cell_type": "markdown",
   "id": "ebd9edfc",
   "metadata": {},
   "source": [
    "## 04. Profiling Based on \"Produce\""
   ]
  },
  {
   "cell_type": "code",
   "execution_count": 19,
   "id": "494796d8",
   "metadata": {},
   "outputs": [],
   "source": [
    "# creating a flag to profile produce buyers\n",
    "\n",
    "df.loc[df['department_id']==4,'produce_buyers']='Produce Buyer'"
   ]
  },
  {
   "cell_type": "code",
   "execution_count": 20,
   "id": "57451e1e",
   "metadata": {},
   "outputs": [
    {
     "data": {
      "text/plain": [
       "produce_buyers\n",
       "NaN              22926750\n",
       "Produce Buyer     9479291\n",
       "Name: count, dtype: int64"
      ]
     },
     "execution_count": 20,
     "metadata": {},
     "output_type": "execute_result"
    }
   ],
   "source": [
    "#check frequency\n",
    "df['produce_buyers'].value_counts(dropna=False)"
   ]
  },
  {
   "cell_type": "markdown",
   "id": "6a36bcbb",
   "metadata": {},
   "source": [
    "## 05. Profiling Based on Number of Dependents"
   ]
  },
  {
   "cell_type": "code",
   "execution_count": 21,
   "id": "961239e2",
   "metadata": {},
   "outputs": [],
   "source": [
    "#create flag for parents\n",
    "df.loc[df['n_dependants'] >0, 'parent_group'] = 'Parent'"
   ]
  },
  {
   "cell_type": "code",
   "execution_count": 22,
   "id": "1068fe3a",
   "metadata": {},
   "outputs": [],
   "source": [
    "df.loc[df['n_dependants'] ==0, 'parent_group'] = 'No Children'"
   ]
  },
  {
   "cell_type": "code",
   "execution_count": 23,
   "id": "fb55e6e0",
   "metadata": {},
   "outputs": [
    {
     "data": {
      "text/plain": [
       "parent_group\n",
       "Parent         24308182\n",
       "No Children     8097859\n",
       "Name: count, dtype: int64"
      ]
     },
     "execution_count": 23,
     "metadata": {},
     "output_type": "execute_result"
    }
   ],
   "source": [
    "# Check frequency \n",
    "\n",
    "df['parent_group'].value_counts(dropna=False)"
   ]
  },
  {
   "cell_type": "code",
   "execution_count": 24,
   "id": "9cf15ad7",
   "metadata": {},
   "outputs": [],
   "source": [
    "#create flag for prices\n",
    "df.loc[df['prices'] > 15, 'price_range_loc'] = 'High-range product'"
   ]
  },
  {
   "cell_type": "code",
   "execution_count": 25,
   "id": "bb2b3c67",
   "metadata": {},
   "outputs": [],
   "source": [
    "df.loc[(df['prices'] <= 15) & (df['prices'] > 5), 'price_range_loc'] = 'Mid-range product' "
   ]
  },
  {
   "cell_type": "code",
   "execution_count": 26,
   "id": "4e003b16",
   "metadata": {},
   "outputs": [],
   "source": [
    "df.loc[df['prices'] <= 5, 'price_range_loc'] = 'Low-range product'"
   ]
  },
  {
   "cell_type": "code",
   "execution_count": 27,
   "id": "a57d750f",
   "metadata": {},
   "outputs": [
    {
     "data": {
      "text/plain": [
       "price_range_loc\n",
       "Mid-range product     21861997\n",
       "Low-range product     10126366\n",
       "High-range product      417678\n",
       "Name: count, dtype: int64"
      ]
     },
     "execution_count": 27,
     "metadata": {},
     "output_type": "execute_result"
    }
   ],
   "source": [
    "df['price_range_loc'].value_counts(dropna=False)"
   ]
  },
  {
   "cell_type": "markdown",
   "id": "d0d23359",
   "metadata": {},
   "source": [
    "## 06. Aggregating"
   ]
  },
  {
   "cell_type": "code",
   "execution_count": 28,
   "id": "5476e1de",
   "metadata": {},
   "outputs": [],
   "source": [
    "# Create Parent Profiles\n",
    "df.loc[(df['age_group'] == 'Old Age') & (df['parent_group'] == 'Parent'), 'parent_profile'] = 'Older Parent'"
   ]
  },
  {
   "cell_type": "code",
   "execution_count": 29,
   "id": "a8a04a35",
   "metadata": {},
   "outputs": [],
   "source": [
    "df.loc[(df['age_group'] == 'Middle Age') & (df['parent_group'] == 'Parent'), 'parent_profile'] = 'Middle Aged Parent'"
   ]
  },
  {
   "cell_type": "code",
   "execution_count": 30,
   "id": "7f56f885",
   "metadata": {},
   "outputs": [],
   "source": [
    "df.loc[(df['age_group'] == 'Young Age') & (df['parent_group'] == 'Parent'), 'parent_profile'] = 'Younger Parent'"
   ]
  },
  {
   "cell_type": "code",
   "execution_count": 31,
   "id": "504f209a",
   "metadata": {},
   "outputs": [],
   "source": [
    "df.loc[(df['age_group'] == 'Old Age') & (df['parent_group'] == 'No Children'), 'parent_profile'] = 'Older No Kids'"
   ]
  },
  {
   "cell_type": "code",
   "execution_count": 32,
   "id": "337d114c",
   "metadata": {},
   "outputs": [],
   "source": [
    "df.loc[(df['age_group'] == 'Middle Age') & (df['parent_group'] == 'No Children'), 'parent_profile'] = 'Middle Aged No Kids'"
   ]
  },
  {
   "cell_type": "code",
   "execution_count": 33,
   "id": "e63af7de",
   "metadata": {},
   "outputs": [],
   "source": [
    "df.loc[(df['age_group'] == 'Young Age') & (df['parent_group'] == 'No Children'), 'parent_profile'] = 'Younger No Kids'"
   ]
  },
  {
   "cell_type": "code",
   "execution_count": 34,
   "id": "cf8e8cfd",
   "metadata": {
    "scrolled": true
   },
   "outputs": [
    {
     "data": {
      "text/plain": [
       "parent_profile\n",
       "Older Parent           10175407\n",
       "Middle Aged Parent      7661830\n",
       "Younger Parent          6470945\n",
       "Older No Kids           3428738\n",
       "Middle Aged No Kids     2512098\n",
       "Younger No Kids         2157023\n",
       "Name: count, dtype: int64"
      ]
     },
     "execution_count": 34,
     "metadata": {},
     "output_type": "execute_result"
    }
   ],
   "source": [
    "#check frequency\n",
    "df['parent_profile'].value_counts(dropna=False)"
   ]
  },
  {
   "cell_type": "markdown",
   "id": "e32ce367",
   "metadata": {},
   "source": [
    "## 07. Export"
   ]
  },
  {
   "cell_type": "code",
   "execution_count": 35,
   "id": "fad6698b",
   "metadata": {},
   "outputs": [],
   "source": [
    "#export data with all flags \n",
    "df.to_pickle(os.path.join(path, '02 Data','Prepared Data', 'df_flags.pkl'))"
   ]
  }
 ],
 "metadata": {
  "kernelspec": {
   "display_name": "Python 3 (ipykernel)",
   "language": "python",
   "name": "python3"
  },
  "language_info": {
   "codemirror_mode": {
    "name": "ipython",
    "version": 3
   },
   "file_extension": ".py",
   "mimetype": "text/x-python",
   "name": "python",
   "nbconvert_exporter": "python",
   "pygments_lexer": "ipython3",
   "version": "3.11.4"
  }
 },
 "nbformat": 4,
 "nbformat_minor": 5
}
