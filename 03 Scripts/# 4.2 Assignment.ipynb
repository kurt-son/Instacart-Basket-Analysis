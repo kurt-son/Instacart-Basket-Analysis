{
 "cells": [
  {
   "cell_type": "markdown",
   "id": "d84926e3",
   "metadata": {},
   "source": [
    "# Importing Libraries"
   ]
  },
  {
   "cell_type": "code",
   "execution_count": 2,
   "id": "302f9f5d",
   "metadata": {},
   "outputs": [],
   "source": [
    "# Import Libraries\n",
    "import pandas as pd\n",
    "import numpy as np\n",
    "import os"
   ]
  },
  {
   "cell_type": "markdown",
   "id": "bcc7163d",
   "metadata": {},
   "source": [
    "# Working with Python Data Types"
   ]
  },
  {
   "cell_type": "code",
   "execution_count": 3,
   "id": "0d7f538c",
   "metadata": {},
   "outputs": [],
   "source": [
    "X = 2"
   ]
  },
  {
   "cell_type": "code",
   "execution_count": 4,
   "id": "2e675e59",
   "metadata": {},
   "outputs": [],
   "source": [
    "Y = 50"
   ]
  },
  {
   "cell_type": "code",
   "execution_count": 6,
   "id": "ac61ff36",
   "metadata": {},
   "outputs": [],
   "source": [
    "Z = 98"
   ]
  },
  {
   "cell_type": "code",
   "execution_count": 9,
   "id": "6bd470e3",
   "metadata": {},
   "outputs": [
    {
     "data": {
      "text/plain": [
       "100"
      ]
     },
     "execution_count": 9,
     "metadata": {},
     "output_type": "execute_result"
    }
   ],
   "source": [
    "X+Z "
   ]
  },
  {
   "cell_type": "code",
   "execution_count": 10,
   "id": "738c1234",
   "metadata": {},
   "outputs": [],
   "source": [
    "ZZ = 198"
   ]
  },
  {
   "cell_type": "code",
   "execution_count": 12,
   "id": "33194fc6",
   "metadata": {},
   "outputs": [
    {
     "data": {
      "text/plain": [
       "100"
      ]
     },
     "execution_count": 12,
     "metadata": {},
     "output_type": "execute_result"
    }
   ],
   "source": [
    "ZZ - Z "
   ]
  },
  {
   "cell_type": "code",
   "execution_count": 13,
   "id": "c99e31cd",
   "metadata": {},
   "outputs": [
    {
     "data": {
      "text/plain": [
       "100"
      ]
     },
     "execution_count": 13,
     "metadata": {},
     "output_type": "execute_result"
    }
   ],
   "source": [
    "Y + Y"
   ]
  },
  {
   "cell_type": "code",
   "execution_count": 25,
   "id": "8be1881b",
   "metadata": {},
   "outputs": [],
   "source": [
    "C = 4.687"
   ]
  },
  {
   "cell_type": "code",
   "execution_count": 26,
   "id": "3349bc41",
   "metadata": {},
   "outputs": [],
   "source": [
    "D = 5.839"
   ]
  },
  {
   "cell_type": "code",
   "execution_count": 27,
   "id": "c2328a22",
   "metadata": {},
   "outputs": [
    {
     "data": {
      "text/plain": [
       "0.8027059427984243"
      ]
     },
     "execution_count": 27,
     "metadata": {},
     "output_type": "execute_result"
    }
   ],
   "source": [
    "C / D "
   ]
  },
  {
   "cell_type": "code",
   "execution_count": 28,
   "id": "dcf2ab6a",
   "metadata": {},
   "outputs": [],
   "source": [
    "J = 'touch'"
   ]
  },
  {
   "cell_type": "code",
   "execution_count": 29,
   "id": "6ebe69b7",
   "metadata": {},
   "outputs": [],
   "source": [
    "H = \"down\""
   ]
  },
  {
   "cell_type": "code",
   "execution_count": 30,
   "id": "777deddd",
   "metadata": {},
   "outputs": [
    {
     "data": {
      "text/plain": [
       "'touchdown'"
      ]
     },
     "execution_count": 30,
     "metadata": {},
     "output_type": "execute_result"
    }
   ],
   "source": [
    "J + H"
   ]
  },
  {
   "cell_type": "code",
   "execution_count": 36,
   "id": "dcaa66a0",
   "metadata": {},
   "outputs": [],
   "source": [
    "what = 'What time is the game at? It is at '"
   ]
  },
  {
   "cell_type": "code",
   "execution_count": 32,
   "id": "9ec5687e",
   "metadata": {},
   "outputs": [],
   "source": [
    "time = '7 oclock'"
   ]
  },
  {
   "cell_type": "code",
   "execution_count": 37,
   "id": "07ce95d1",
   "metadata": {},
   "outputs": [
    {
     "data": {
      "text/plain": [
       "'What time is the game at? It is at 7 oclock'"
      ]
     },
     "execution_count": 37,
     "metadata": {},
     "output_type": "execute_result"
    }
   ],
   "source": [
    "what + time "
   ]
  },
  {
   "cell_type": "code",
   "execution_count": 38,
   "id": "69f0426e",
   "metadata": {},
   "outputs": [
    {
     "data": {
      "text/plain": [
       "'touchtouchtouchtouchtouchtouchtouchtouchtouchtouchtouchtouchtouchtouchtouchtouchtouchtouchtouchtouchtouchtouchtouchtouchtouchtouchtouchtouchtouchtouchtouchtouchtouchtouchtouchtouchtouchtouchtouchtouchtouchtouchtouchtouchtouchtouchtouchtouchtouchtouchtouchtouchtouchtouchtouchtouchtouchtouchtouchtouchtouchtouchtouchtouchtouchtouchtouchtouchtouchtouchtouchtouchtouchtouchtouchtouchtouchtouchtouchtouchtouchtouchtouchtouchtouchtouchtouchtouchtouchtouchtouchtouchtouchtouchtouchtouchtouchtouchtouchtouch'"
      ]
     },
     "execution_count": 38,
     "metadata": {},
     "output_type": "execute_result"
    }
   ],
   "source": [
    "J * 100"
   ]
  }
 ],
 "metadata": {
  "kernelspec": {
   "display_name": "Python 3 (ipykernel)",
   "language": "python",
   "name": "python3"
  },
  "language_info": {
   "codemirror_mode": {
    "name": "ipython",
    "version": 3
   },
   "file_extension": ".py",
   "mimetype": "text/x-python",
   "name": "python",
   "nbconvert_exporter": "python",
   "pygments_lexer": "ipython3",
   "version": "3.11.4"
  }
 },
 "nbformat": 4,
 "nbformat_minor": 5
}
