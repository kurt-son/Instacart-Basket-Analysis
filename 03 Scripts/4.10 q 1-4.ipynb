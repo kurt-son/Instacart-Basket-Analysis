{
 "cells": [
  {
   "cell_type": "markdown",
   "id": "13f9dcc2",
   "metadata": {},
   "source": [
    "## Table of Contents\n"
   ]
  },
  {
   "cell_type": "markdown",
   "id": "8a2915ac",
   "metadata": {},
   "source": [
    "#### 01. Importing Libraries\n",
    "#### 02. Address PII Data\n",
    "#### 03. Regional Segmentations\n",
    "#### 04. Low Activity Exclusions\n",
    "#### 05. Export"
   ]
  },
  {
   "cell_type": "markdown",
   "id": "56bd981c",
   "metadata": {},
   "source": [
    "## 01. Import Libraries"
   ]
  },
  {
   "cell_type": "code",
   "execution_count": 1,
   "id": "fdb44123",
   "metadata": {},
   "outputs": [],
   "source": [
    "# Importing libraries\n",
    "import pandas as pd\n",
    "import numpy as np\n",
    "import os\n",
    "import matplotlib.pyplot as plt\n",
    "import seaborn as sns \n",
    "import scipy "
   ]
  },
  {
   "cell_type": "code",
   "execution_count": 2,
   "id": "f8778c9e",
   "metadata": {},
   "outputs": [],
   "source": [
    "# Defining path\n",
    "path = r'/Users/kurtson/Desktop/Instacart Basket Analysis'"
   ]
  },
  {
   "cell_type": "code",
   "execution_count": 3,
   "id": "14b80ec1",
   "metadata": {},
   "outputs": [],
   "source": [
    "# Import data\n",
    "df = pd.read_pickle(os.path.join(path, '02 Data', 'Prepared Data','df_full.pkl'))"
   ]
  },
  {
   "cell_type": "markdown",
   "id": "2a517492",
   "metadata": {},
   "source": [
    "## 02. Address PII Data"
   ]
  },
  {
   "cell_type": "code",
   "execution_count": 4,
   "id": "4c226ff2",
   "metadata": {
    "scrolled": false
   },
   "outputs": [
    {
     "name": "stdout",
     "output_type": "stream",
     "text": [
      "<class 'pandas.core.frame.DataFrame'>\n",
      "RangeIndex: 32406041 entries, 0 to 32406040\n",
      "Data columns (total 35 columns):\n",
      " #   Column                  Dtype   \n",
      "---  ------                  -----   \n",
      " 0   order_id                int32   \n",
      " 1   user_id                 int32   \n",
      " 2   eval_set                object  \n",
      " 3   order_number            int8    \n",
      " 4   order_dow               int8    \n",
      " 5   order_hour_of_day       int8    \n",
      " 6   days_since_prior_order  float16 \n",
      " 7   product_id              int32   \n",
      " 8   add_to_cart_order       int8    \n",
      " 9   reordered               int8    \n",
      " 10  _merge                  category\n",
      " 11  Unnamed: 0              int8    \n",
      " 12  product_name            object  \n",
      " 13  aisle_id                int8    \n",
      " 14  department_id           int32   \n",
      " 15  prices                  float16 \n",
      " 16  busiest_day             object  \n",
      " 17  Busiest_days            object  \n",
      " 18  busiest_period_of_day   object  \n",
      " 19  max_order               int8    \n",
      " 20  loyalty_flag            object  \n",
      " 21  mean_price              float16 \n",
      " 22  spending_flag           object  \n",
      " 23  median_days             float16 \n",
      " 24  frequency_flag          object  \n",
      " 25  first_name              object  \n",
      " 26  surname                 object  \n",
      " 27  gender                  object  \n",
      " 28  state                   object  \n",
      " 29  age                     int8    \n",
      " 30  date_joined             object  \n",
      " 31  n_dependants            int8    \n",
      " 32  fam_status              object  \n",
      " 33  income                  int32   \n",
      " 34  department              object  \n",
      "dtypes: category(1), float16(4), int32(5), int8(10), object(15)\n",
      "memory usage: 4.8+ GB\n"
     ]
    }
   ],
   "source": [
    "# scan for any PII data that may need removed\n",
    "df.info()"
   ]
  },
  {
   "cell_type": "code",
   "execution_count": 5,
   "id": "b05141db",
   "metadata": {
    "scrolled": true
   },
   "outputs": [],
   "source": [
    "#remove names from the data\n",
    "df =df.drop(columns=['first_name'])"
   ]
  },
  {
   "cell_type": "code",
   "execution_count": 6,
   "id": "114e0042",
   "metadata": {},
   "outputs": [
    {
     "data": {
      "text/html": [
       "<div>\n",
       "<style scoped>\n",
       "    .dataframe tbody tr th:only-of-type {\n",
       "        vertical-align: middle;\n",
       "    }\n",
       "\n",
       "    .dataframe tbody tr th {\n",
       "        vertical-align: top;\n",
       "    }\n",
       "\n",
       "    .dataframe thead th {\n",
       "        text-align: right;\n",
       "    }\n",
       "</style>\n",
       "<table border=\"1\" class=\"dataframe\">\n",
       "  <thead>\n",
       "    <tr style=\"text-align: right;\">\n",
       "      <th></th>\n",
       "      <th>order_id</th>\n",
       "      <th>user_id</th>\n",
       "      <th>eval_set</th>\n",
       "      <th>order_number</th>\n",
       "      <th>order_dow</th>\n",
       "      <th>order_hour_of_day</th>\n",
       "      <th>days_since_prior_order</th>\n",
       "      <th>product_id</th>\n",
       "      <th>add_to_cart_order</th>\n",
       "      <th>reordered</th>\n",
       "      <th>...</th>\n",
       "      <th>frequency_flag</th>\n",
       "      <th>surname</th>\n",
       "      <th>gender</th>\n",
       "      <th>state</th>\n",
       "      <th>age</th>\n",
       "      <th>date_joined</th>\n",
       "      <th>n_dependants</th>\n",
       "      <th>fam_status</th>\n",
       "      <th>income</th>\n",
       "      <th>department</th>\n",
       "    </tr>\n",
       "  </thead>\n",
       "  <tbody>\n",
       "    <tr>\n",
       "      <th>0</th>\n",
       "      <td>2539329</td>\n",
       "      <td>1</td>\n",
       "      <td>prior</td>\n",
       "      <td>1</td>\n",
       "      <td>2</td>\n",
       "      <td>8</td>\n",
       "      <td>NaN</td>\n",
       "      <td>196</td>\n",
       "      <td>1</td>\n",
       "      <td>0</td>\n",
       "      <td>...</td>\n",
       "      <td>Non-frequent customer</td>\n",
       "      <td>Nguyen</td>\n",
       "      <td>Female</td>\n",
       "      <td>Alabama</td>\n",
       "      <td>31</td>\n",
       "      <td>2/17/2019</td>\n",
       "      <td>3</td>\n",
       "      <td>married</td>\n",
       "      <td>40423</td>\n",
       "      <td>beverages</td>\n",
       "    </tr>\n",
       "    <tr>\n",
       "      <th>1</th>\n",
       "      <td>2398795</td>\n",
       "      <td>1</td>\n",
       "      <td>prior</td>\n",
       "      <td>2</td>\n",
       "      <td>3</td>\n",
       "      <td>7</td>\n",
       "      <td>15.0</td>\n",
       "      <td>196</td>\n",
       "      <td>1</td>\n",
       "      <td>1</td>\n",
       "      <td>...</td>\n",
       "      <td>Non-frequent customer</td>\n",
       "      <td>Nguyen</td>\n",
       "      <td>Female</td>\n",
       "      <td>Alabama</td>\n",
       "      <td>31</td>\n",
       "      <td>2/17/2019</td>\n",
       "      <td>3</td>\n",
       "      <td>married</td>\n",
       "      <td>40423</td>\n",
       "      <td>beverages</td>\n",
       "    </tr>\n",
       "    <tr>\n",
       "      <th>2</th>\n",
       "      <td>473747</td>\n",
       "      <td>1</td>\n",
       "      <td>prior</td>\n",
       "      <td>3</td>\n",
       "      <td>3</td>\n",
       "      <td>12</td>\n",
       "      <td>21.0</td>\n",
       "      <td>196</td>\n",
       "      <td>1</td>\n",
       "      <td>1</td>\n",
       "      <td>...</td>\n",
       "      <td>Non-frequent customer</td>\n",
       "      <td>Nguyen</td>\n",
       "      <td>Female</td>\n",
       "      <td>Alabama</td>\n",
       "      <td>31</td>\n",
       "      <td>2/17/2019</td>\n",
       "      <td>3</td>\n",
       "      <td>married</td>\n",
       "      <td>40423</td>\n",
       "      <td>beverages</td>\n",
       "    </tr>\n",
       "    <tr>\n",
       "      <th>3</th>\n",
       "      <td>2254736</td>\n",
       "      <td>1</td>\n",
       "      <td>prior</td>\n",
       "      <td>4</td>\n",
       "      <td>4</td>\n",
       "      <td>7</td>\n",
       "      <td>29.0</td>\n",
       "      <td>196</td>\n",
       "      <td>1</td>\n",
       "      <td>1</td>\n",
       "      <td>...</td>\n",
       "      <td>Non-frequent customer</td>\n",
       "      <td>Nguyen</td>\n",
       "      <td>Female</td>\n",
       "      <td>Alabama</td>\n",
       "      <td>31</td>\n",
       "      <td>2/17/2019</td>\n",
       "      <td>3</td>\n",
       "      <td>married</td>\n",
       "      <td>40423</td>\n",
       "      <td>beverages</td>\n",
       "    </tr>\n",
       "    <tr>\n",
       "      <th>4</th>\n",
       "      <td>431534</td>\n",
       "      <td>1</td>\n",
       "      <td>prior</td>\n",
       "      <td>5</td>\n",
       "      <td>4</td>\n",
       "      <td>15</td>\n",
       "      <td>28.0</td>\n",
       "      <td>196</td>\n",
       "      <td>1</td>\n",
       "      <td>1</td>\n",
       "      <td>...</td>\n",
       "      <td>Non-frequent customer</td>\n",
       "      <td>Nguyen</td>\n",
       "      <td>Female</td>\n",
       "      <td>Alabama</td>\n",
       "      <td>31</td>\n",
       "      <td>2/17/2019</td>\n",
       "      <td>3</td>\n",
       "      <td>married</td>\n",
       "      <td>40423</td>\n",
       "      <td>beverages</td>\n",
       "    </tr>\n",
       "  </tbody>\n",
       "</table>\n",
       "<p>5 rows × 34 columns</p>\n",
       "</div>"
      ],
      "text/plain": [
       "   order_id  user_id eval_set  order_number  order_dow  order_hour_of_day  \\\n",
       "0   2539329        1    prior             1          2                  8   \n",
       "1   2398795        1    prior             2          3                  7   \n",
       "2    473747        1    prior             3          3                 12   \n",
       "3   2254736        1    prior             4          4                  7   \n",
       "4    431534        1    prior             5          4                 15   \n",
       "\n",
       "   days_since_prior_order  product_id  add_to_cart_order  reordered  ...  \\\n",
       "0                     NaN         196                  1          0  ...   \n",
       "1                    15.0         196                  1          1  ...   \n",
       "2                    21.0         196                  1          1  ...   \n",
       "3                    29.0         196                  1          1  ...   \n",
       "4                    28.0         196                  1          1  ...   \n",
       "\n",
       "          frequency_flag  surname  gender    state  age  date_joined  \\\n",
       "0  Non-frequent customer   Nguyen  Female  Alabama   31    2/17/2019   \n",
       "1  Non-frequent customer   Nguyen  Female  Alabama   31    2/17/2019   \n",
       "2  Non-frequent customer   Nguyen  Female  Alabama   31    2/17/2019   \n",
       "3  Non-frequent customer   Nguyen  Female  Alabama   31    2/17/2019   \n",
       "4  Non-frequent customer   Nguyen  Female  Alabama   31    2/17/2019   \n",
       "\n",
       "  n_dependants fam_status income  department  \n",
       "0            3    married  40423   beverages  \n",
       "1            3    married  40423   beverages  \n",
       "2            3    married  40423   beverages  \n",
       "3            3    married  40423   beverages  \n",
       "4            3    married  40423   beverages  \n",
       "\n",
       "[5 rows x 34 columns]"
      ]
     },
     "execution_count": 6,
     "metadata": {},
     "output_type": "execute_result"
    }
   ],
   "source": [
    "df.head()"
   ]
  },
  {
   "cell_type": "markdown",
   "id": "42f703cf",
   "metadata": {},
   "source": [
    "## 03. Regional Segmentations"
   ]
  },
  {
   "cell_type": "code",
   "execution_count": 7,
   "id": "bfa630a3",
   "metadata": {},
   "outputs": [],
   "source": [
    "#designate regions\n",
    "Northeast = ['Maine', 'New Hampshire', 'Vermont', 'Massachusetts', 'Rhode Island', 'Connecticut', 'New York', 'Pennsylvania', 'New Jersey']\n",
    "Midwest = ['Wisconsin', 'Michigan','Illinois', 'Indiana', 'Ohio', 'North Dakota', 'South Dakota', 'Nebraska', 'Kansas', 'Minnesota', 'Iowa']\n",
    "South = ['Delaware', 'Maryland', 'District of Columbia', 'Virginia', 'West Virginia', 'North Carolina', 'South Carolina', 'Georgia', 'Florida', 'Kentucky', 'Tennessee', 'Mississippi', 'Alabama', 'Oklahoma', 'Texas', 'Arkansas', 'Louisiana', 'Missouri']\n",
    "West = ['Idaho', 'Montana', 'Wyoming', 'Nevada', 'Utah', 'Colorado', 'Arizona', 'New Mexico', 'Washington', 'Oregon', 'California', 'Alaska', 'Hawaii' ]"
   ]
  },
  {
   "cell_type": "code",
   "execution_count": 8,
   "id": "d1ed51a7",
   "metadata": {},
   "outputs": [],
   "source": [
    "#create regional columns\n",
    "df.loc[df['state'].isin (Northeast), 'region'] = 'Northeast'\n",
    "df.loc[df['state'].isin (Midwest), 'region'] = 'Midwest'\n",
    "df.loc[df['state'].isin (South), 'region'] = 'South'\n",
    "df.loc[df['state'].isin (West), 'region'] = 'West'"
   ]
  },
  {
   "cell_type": "code",
   "execution_count": 9,
   "id": "6e80e5ed",
   "metadata": {},
   "outputs": [
    {
     "data": {
      "text/html": [
       "<div>\n",
       "<style scoped>\n",
       "    .dataframe tbody tr th:only-of-type {\n",
       "        vertical-align: middle;\n",
       "    }\n",
       "\n",
       "    .dataframe tbody tr th {\n",
       "        vertical-align: top;\n",
       "    }\n",
       "\n",
       "    .dataframe thead th {\n",
       "        text-align: right;\n",
       "    }\n",
       "</style>\n",
       "<table border=\"1\" class=\"dataframe\">\n",
       "  <thead>\n",
       "    <tr style=\"text-align: right;\">\n",
       "      <th></th>\n",
       "      <th>region</th>\n",
       "    </tr>\n",
       "  </thead>\n",
       "  <tbody>\n",
       "    <tr>\n",
       "      <th>0</th>\n",
       "      <td>South</td>\n",
       "    </tr>\n",
       "    <tr>\n",
       "      <th>1</th>\n",
       "      <td>South</td>\n",
       "    </tr>\n",
       "    <tr>\n",
       "      <th>2</th>\n",
       "      <td>South</td>\n",
       "    </tr>\n",
       "    <tr>\n",
       "      <th>3</th>\n",
       "      <td>South</td>\n",
       "    </tr>\n",
       "    <tr>\n",
       "      <th>4</th>\n",
       "      <td>South</td>\n",
       "    </tr>\n",
       "    <tr>\n",
       "      <th>...</th>\n",
       "      <td>...</td>\n",
       "    </tr>\n",
       "    <tr>\n",
       "      <th>95</th>\n",
       "      <td>West</td>\n",
       "    </tr>\n",
       "    <tr>\n",
       "      <th>96</th>\n",
       "      <td>West</td>\n",
       "    </tr>\n",
       "    <tr>\n",
       "      <th>97</th>\n",
       "      <td>West</td>\n",
       "    </tr>\n",
       "    <tr>\n",
       "      <th>98</th>\n",
       "      <td>West</td>\n",
       "    </tr>\n",
       "    <tr>\n",
       "      <th>99</th>\n",
       "      <td>West</td>\n",
       "    </tr>\n",
       "  </tbody>\n",
       "</table>\n",
       "<p>100 rows × 1 columns</p>\n",
       "</div>"
      ],
      "text/plain": [
       "   region\n",
       "0   South\n",
       "1   South\n",
       "2   South\n",
       "3   South\n",
       "4   South\n",
       "..    ...\n",
       "95   West\n",
       "96   West\n",
       "97   West\n",
       "98   West\n",
       "99   West\n",
       "\n",
       "[100 rows x 1 columns]"
      ]
     },
     "execution_count": 9,
     "metadata": {},
     "output_type": "execute_result"
    }
   ],
   "source": [
    "#verify\n",
    "df[['region']].head(100)"
   ]
  },
  {
   "cell_type": "code",
   "execution_count": 10,
   "id": "c2890eef",
   "metadata": {},
   "outputs": [],
   "source": [
    "# create bar chart\n",
    "regional_spending = pd.crosstab(df['region'], df['spending_flag'], dropna = False)"
   ]
  },
  {
   "cell_type": "code",
   "execution_count": 11,
   "id": "6bc93d2f",
   "metadata": {},
   "outputs": [
    {
     "data": {
      "text/plain": [
       "Text(0.5, 1.0, 'Regional Spending')"
      ]
     },
     "execution_count": 11,
     "metadata": {},
     "output_type": "execute_result"
    },
    {
     "data": {
      "image/png": "[encoded data removed]",
      "text/plain": [
       "<Figure size 640x480 with 1 Axes>"
      ]
     },
     "metadata": {},
     "output_type": "display_data"
    }
   ],
   "source": [
    "bar_regional_spending = regional_spending.plot.bar()\n",
    "plt.title('Regional Spending')"
   ]
  },
  {
   "cell_type": "code",
   "execution_count": 12,
   "id": "9beaa7d4",
   "metadata": {},
   "outputs": [],
   "source": [
    "bar_regional_spending.figure.savefig(os.path.join(path, '04 Analysis', 'Visualizations',  'bar_regional_spending.png'))"
   ]
  },
  {
   "cell_type": "markdown",
   "id": "43487868",
   "metadata": {},
   "source": [
    "## 04. Low Activity Exclusions"
   ]
  },
  {
   "cell_type": "code",
   "execution_count": 13,
   "id": "0be8c75a",
   "metadata": {},
   "outputs": [],
   "source": [
    "# create columns for high activity and low activity\n",
    "\n",
    "df.loc[df['max_order']>=5,'customer_activity']='High Activity Customer'"
   ]
  },
  {
   "cell_type": "code",
   "execution_count": 14,
   "id": "4c757617",
   "metadata": {},
   "outputs": [],
   "source": [
    "df.loc[df['max_order']<=5,'customer_activity']='Low Activity Customer'"
   ]
  },
  {
   "cell_type": "code",
   "execution_count": 15,
   "id": "fa6f1d2c",
   "metadata": {},
   "outputs": [
    {
     "data": {
      "text/plain": [
       "customer_activity\n",
       "High Activity Customer    30172510\n",
       "Low Activity Customer      2233531\n",
       "Name: count, dtype: int64"
      ]
     },
     "execution_count": 15,
     "metadata": {},
     "output_type": "execute_result"
    }
   ],
   "source": [
    "# verify\n",
    "df['customer_activity'].value_counts(dropna=False)"
   ]
  },
  {
   "cell_type": "code",
   "execution_count": 16,
   "id": "4b35070a",
   "metadata": {},
   "outputs": [],
   "source": [
    "# create subset of low activity customers\n",
    "low_activity = df[df['customer_activity']=='Low Activity Customer']"
   ]
  },
  {
   "cell_type": "code",
   "execution_count": 17,
   "id": "e6dd553f",
   "metadata": {},
   "outputs": [
    {
     "data": {
      "text/html": [
       "<div>\n",
       "<style scoped>\n",
       "    .dataframe tbody tr th:only-of-type {\n",
       "        vertical-align: middle;\n",
       "    }\n",
       "\n",
       "    .dataframe tbody tr th {\n",
       "        vertical-align: top;\n",
       "    }\n",
       "\n",
       "    .dataframe thead th {\n",
       "        text-align: right;\n",
       "    }\n",
       "</style>\n",
       "<table border=\"1\" class=\"dataframe\">\n",
       "  <thead>\n",
       "    <tr style=\"text-align: right;\">\n",
       "      <th></th>\n",
       "      <th>order_id</th>\n",
       "      <th>user_id</th>\n",
       "      <th>eval_set</th>\n",
       "      <th>order_number</th>\n",
       "      <th>order_dow</th>\n",
       "      <th>order_hour_of_day</th>\n",
       "      <th>days_since_prior_order</th>\n",
       "      <th>product_id</th>\n",
       "      <th>add_to_cart_order</th>\n",
       "      <th>reordered</th>\n",
       "      <th>...</th>\n",
       "      <th>gender</th>\n",
       "      <th>state</th>\n",
       "      <th>age</th>\n",
       "      <th>date_joined</th>\n",
       "      <th>n_dependants</th>\n",
       "      <th>fam_status</th>\n",
       "      <th>income</th>\n",
       "      <th>department</th>\n",
       "      <th>region</th>\n",
       "      <th>customer_activity</th>\n",
       "    </tr>\n",
       "  </thead>\n",
       "  <tbody>\n",
       "    <tr>\n",
       "      <th>282</th>\n",
       "      <td>520620</td>\n",
       "      <td>120</td>\n",
       "      <td>prior</td>\n",
       "      <td>1</td>\n",
       "      <td>3</td>\n",
       "      <td>11</td>\n",
       "      <td>NaN</td>\n",
       "      <td>196</td>\n",
       "      <td>2</td>\n",
       "      <td>0</td>\n",
       "      <td>...</td>\n",
       "      <td>Female</td>\n",
       "      <td>Kentucky</td>\n",
       "      <td>54</td>\n",
       "      <td>3/2/2017</td>\n",
       "      <td>2</td>\n",
       "      <td>married</td>\n",
       "      <td>99219</td>\n",
       "      <td>beverages</td>\n",
       "      <td>South</td>\n",
       "      <td>Low Activity Customer</td>\n",
       "    </tr>\n",
       "    <tr>\n",
       "      <th>283</th>\n",
       "      <td>3273029</td>\n",
       "      <td>120</td>\n",
       "      <td>prior</td>\n",
       "      <td>3</td>\n",
       "      <td>2</td>\n",
       "      <td>8</td>\n",
       "      <td>19.0</td>\n",
       "      <td>196</td>\n",
       "      <td>2</td>\n",
       "      <td>1</td>\n",
       "      <td>...</td>\n",
       "      <td>Female</td>\n",
       "      <td>Kentucky</td>\n",
       "      <td>54</td>\n",
       "      <td>3/2/2017</td>\n",
       "      <td>2</td>\n",
       "      <td>married</td>\n",
       "      <td>99219</td>\n",
       "      <td>beverages</td>\n",
       "      <td>South</td>\n",
       "      <td>Low Activity Customer</td>\n",
       "    </tr>\n",
       "    <tr>\n",
       "      <th>284</th>\n",
       "      <td>520620</td>\n",
       "      <td>120</td>\n",
       "      <td>prior</td>\n",
       "      <td>1</td>\n",
       "      <td>3</td>\n",
       "      <td>11</td>\n",
       "      <td>NaN</td>\n",
       "      <td>46149</td>\n",
       "      <td>1</td>\n",
       "      <td>0</td>\n",
       "      <td>...</td>\n",
       "      <td>Female</td>\n",
       "      <td>Kentucky</td>\n",
       "      <td>54</td>\n",
       "      <td>3/2/2017</td>\n",
       "      <td>2</td>\n",
       "      <td>married</td>\n",
       "      <td>99219</td>\n",
       "      <td>beverages</td>\n",
       "      <td>South</td>\n",
       "      <td>Low Activity Customer</td>\n",
       "    </tr>\n",
       "    <tr>\n",
       "      <th>285</th>\n",
       "      <td>3273029</td>\n",
       "      <td>120</td>\n",
       "      <td>prior</td>\n",
       "      <td>3</td>\n",
       "      <td>2</td>\n",
       "      <td>8</td>\n",
       "      <td>19.0</td>\n",
       "      <td>46149</td>\n",
       "      <td>1</td>\n",
       "      <td>1</td>\n",
       "      <td>...</td>\n",
       "      <td>Female</td>\n",
       "      <td>Kentucky</td>\n",
       "      <td>54</td>\n",
       "      <td>3/2/2017</td>\n",
       "      <td>2</td>\n",
       "      <td>married</td>\n",
       "      <td>99219</td>\n",
       "      <td>beverages</td>\n",
       "      <td>South</td>\n",
       "      <td>Low Activity Customer</td>\n",
       "    </tr>\n",
       "    <tr>\n",
       "      <th>286</th>\n",
       "      <td>906054</td>\n",
       "      <td>120</td>\n",
       "      <td>prior</td>\n",
       "      <td>2</td>\n",
       "      <td>4</td>\n",
       "      <td>7</td>\n",
       "      <td>15.0</td>\n",
       "      <td>31102</td>\n",
       "      <td>1</td>\n",
       "      <td>0</td>\n",
       "      <td>...</td>\n",
       "      <td>Female</td>\n",
       "      <td>Kentucky</td>\n",
       "      <td>54</td>\n",
       "      <td>3/2/2017</td>\n",
       "      <td>2</td>\n",
       "      <td>married</td>\n",
       "      <td>99219</td>\n",
       "      <td>beverages</td>\n",
       "      <td>South</td>\n",
       "      <td>Low Activity Customer</td>\n",
       "    </tr>\n",
       "  </tbody>\n",
       "</table>\n",
       "<p>5 rows × 36 columns</p>\n",
       "</div>"
      ],
      "text/plain": [
       "     order_id  user_id eval_set  order_number  order_dow  order_hour_of_day  \\\n",
       "282    520620      120    prior             1          3                 11   \n",
       "283   3273029      120    prior             3          2                  8   \n",
       "284    520620      120    prior             1          3                 11   \n",
       "285   3273029      120    prior             3          2                  8   \n",
       "286    906054      120    prior             2          4                  7   \n",
       "\n",
       "     days_since_prior_order  product_id  add_to_cart_order  reordered  ...  \\\n",
       "282                     NaN         196                  2          0  ...   \n",
       "283                    19.0         196                  2          1  ...   \n",
       "284                     NaN       46149                  1          0  ...   \n",
       "285                    19.0       46149                  1          1  ...   \n",
       "286                    15.0       31102                  1          0  ...   \n",
       "\n",
       "     gender     state age  date_joined  n_dependants  fam_status income  \\\n",
       "282  Female  Kentucky  54     3/2/2017             2     married  99219   \n",
       "283  Female  Kentucky  54     3/2/2017             2     married  99219   \n",
       "284  Female  Kentucky  54     3/2/2017             2     married  99219   \n",
       "285  Female  Kentucky  54     3/2/2017             2     married  99219   \n",
       "286  Female  Kentucky  54     3/2/2017             2     married  99219   \n",
       "\n",
       "    department region      customer_activity  \n",
       "282  beverages  South  Low Activity Customer  \n",
       "283  beverages  South  Low Activity Customer  \n",
       "284  beverages  South  Low Activity Customer  \n",
       "285  beverages  South  Low Activity Customer  \n",
       "286  beverages  South  Low Activity Customer  \n",
       "\n",
       "[5 rows x 36 columns]"
      ]
     },
     "execution_count": 17,
     "metadata": {},
     "output_type": "execute_result"
    }
   ],
   "source": [
    "low_activity.head()"
   ]
  },
  {
   "cell_type": "code",
   "execution_count": 18,
   "id": "4131faf1",
   "metadata": {},
   "outputs": [],
   "source": [
    "#export\n",
    "low_activity.to_pickle(os.path.join(path,'02 Data','Prepared Data','Low_activity_customers.pkl'))"
   ]
  },
  {
   "cell_type": "code",
   "execution_count": 19,
   "id": "dc1c36cb",
   "metadata": {},
   "outputs": [],
   "source": [
    "# create subset of high activity customers\n",
    "high_activity = df[df['customer_activity']=='High Activity Customer']"
   ]
  },
  {
   "cell_type": "code",
   "execution_count": 20,
   "id": "6683f383",
   "metadata": {},
   "outputs": [],
   "source": [
    "#export high activity\n",
    "high_activity.to_pickle(os.path.join(path,'02 Data','Prepared Data','high_activity_customers.pkl'))"
   ]
  },
  {
   "cell_type": "code",
   "execution_count": 21,
   "id": "32c95c36",
   "metadata": {},
   "outputs": [
    {
     "name": "stdout",
     "output_type": "stream",
     "text": [
      "<class 'pandas.core.frame.DataFrame'>\n",
      "RangeIndex: 32406041 entries, 0 to 32406040\n",
      "Data columns (total 36 columns):\n",
      " #   Column                  Dtype   \n",
      "---  ------                  -----   \n",
      " 0   order_id                int32   \n",
      " 1   user_id                 int32   \n",
      " 2   eval_set                object  \n",
      " 3   order_number            int8    \n",
      " 4   order_dow               int8    \n",
      " 5   order_hour_of_day       int8    \n",
      " 6   days_since_prior_order  float16 \n",
      " 7   product_id              int32   \n",
      " 8   add_to_cart_order       int8    \n",
      " 9   reordered               int8    \n",
      " 10  _merge                  category\n",
      " 11  Unnamed: 0              int8    \n",
      " 12  product_name            object  \n",
      " 13  aisle_id                int8    \n",
      " 14  department_id           int32   \n",
      " 15  prices                  float16 \n",
      " 16  busiest_day             object  \n",
      " 17  Busiest_days            object  \n",
      " 18  busiest_period_of_day   object  \n",
      " 19  max_order               int8    \n",
      " 20  loyalty_flag            object  \n",
      " 21  mean_price              float16 \n",
      " 22  spending_flag           object  \n",
      " 23  median_days             float16 \n",
      " 24  frequency_flag          object  \n",
      " 25  surname                 object  \n",
      " 26  gender                  object  \n",
      " 27  state                   object  \n",
      " 28  age                     int8    \n",
      " 29  date_joined             object  \n",
      " 30  n_dependants            int8    \n",
      " 31  fam_status              object  \n",
      " 32  income                  int32   \n",
      " 33  department              object  \n",
      " 34  region                  object  \n",
      " 35  customer_activity       object  \n",
      "dtypes: category(1), float16(4), int32(5), int8(10), object(16)\n",
      "memory usage: 5.0+ GB\n"
     ]
    }
   ],
   "source": [
    "df.info()"
   ]
  },
  {
   "cell_type": "markdown",
   "id": "cfd7ae51",
   "metadata": {},
   "source": [
    "## 05. Export"
   ]
  },
  {
   "cell_type": "code",
   "execution_count": 22,
   "id": "d1c21c45",
   "metadata": {},
   "outputs": [],
   "source": [
    "#export data with regions \n",
    "df.to_pickle(os.path.join(path, '02 Data','Prepared Data', 'df_regions.pkl'))"
   ]
  }
 ],
 "metadata": {
  "kernelspec": {
   "display_name": "Python 3 (ipykernel)",
   "language": "python",
   "name": "python3"
  },
  "language_info": {
   "codemirror_mode": {
    "name": "ipython",
    "version": 3
   },
   "file_extension": ".py",
   "mimetype": "text/x-python",
   "name": "python",
   "nbconvert_exporter": "python",
   "pygments_lexer": "ipython3",
   "version": "3.11.4"
  }
 },
 "nbformat": 4,
 "nbformat_minor": 5
}
